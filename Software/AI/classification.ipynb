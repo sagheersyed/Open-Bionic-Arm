{
  "nbformat": 4,
  "nbformat_minor": 0,
  "metadata": {
    "language_info": {
      "codemirror_mode": {
        "name": "ipython",
        "version": 3
      },
      "file_extension": ".py",
      "mimetype": "text/x-python",
      "name": "python",
      "nbconvert_exporter": "python",
      "pygments_lexer": "ipython3",
      "version": "3.8.2"
    },
    "orig_nbformat": 2,
    "kernelspec": {
      "name": "python382jvsc74a57bd031f2aee4e71d21fbe5cf8b01ff0e069b9275f58929596ceb00d14d90e3e16cd6",
      "display_name": "Python 3.8.2 64-bit"
    },
    "metadata": {
      "interpreter": {
        "hash": "31f2aee4e71d21fbe5cf8b01ff0e069b9275f58929596ceb00d14d90e3e16cd6"
      }
    },
    "colab": {
      "name": "classification.ipynb",
      "provenance": []
    }
  },
  "cells": [
    {
      "cell_type": "markdown",
      "metadata": {
        "id": "S1ZX7CLYYPvk"
      },
      "source": [
        "# Imports"
      ]
    },
    {
      "cell_type": "code",
      "metadata": {
        "id": "EMRug1fnX558"
      },
      "source": [
        "import tensorflow as tf\n",
        "import numpy as np\n",
        "import os.path\n",
        "import time\n",
        "import csv"
      ],
      "execution_count": null,
      "outputs": []
    },
    {
      "cell_type": "markdown",
      "metadata": {
        "id": "7R9ZGB-cYgRt"
      },
      "source": [
        "# Initialization"
      ]
    },
    {
      "cell_type": "markdown",
      "metadata": {
        "id": "7nbFa9kGa6-J"
      },
      "source": [
        "Initialize vars"
      ]
    },
    {
      "cell_type": "code",
      "metadata": {
        "id": "ZOrzIrwCa-Qy"
      },
      "source": [
        "path_data = 'data/amplitude.csv'\n",
        "path_lockfile = 'data/lock'"
      ],
      "execution_count": null,
      "outputs": []
    },
    {
      "cell_type": "markdown",
      "metadata": {
        "id": "FIfy1JgVYoIE"
      },
      "source": [
        "Load data"
      ]
    },
    {
      "cell_type": "code",
      "metadata": {
        "id": "dlMp57fdYuDl"
      },
      "source": [
        "def load_data():\n",
        "  while not os.path.exists(path_lockfile):\n",
        "    time.sleep(1)\n",
        "\n",
        "  if not os.path.isfile(path_lockfile):\n",
        "    raise ValueError(\"%s is not a file!\" % path_lockfile)\n",
        "  \n",
        "  if not os.path.exists(path_data) or not os.path.isfile(path_data):\n",
        "    raise ValueError(\"%s does not exist or is not file!\" % path_data)\n",
        "\n",
        "  with csv.open(path_data)"
      ],
      "execution_count": null,
      "outputs": []
    }
  ]
}